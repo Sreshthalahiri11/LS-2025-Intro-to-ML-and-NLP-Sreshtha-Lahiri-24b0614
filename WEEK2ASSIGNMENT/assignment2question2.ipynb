{
  "nbformat": 4,
  "nbformat_minor": 0,
  "metadata": {
    "colab": {
      "provenance": []
    },
    "kernelspec": {
      "name": "python3",
      "display_name": "Python 3"
    },
    "language_info": {
      "name": "python"
    }
  },
  "cells": [
    {
      "cell_type": "code",
      "source": [
        "!pip install gensim\n",
        "!pip install nltk"
      ],
      "metadata": {
        "colab": {
          "base_uri": "https://localhost:8080/"
        },
        "id": "5ebqx1cTbjy0",
        "outputId": "3ee60f45-30a8-452c-9599-f07517f0b6b3"
      },
      "execution_count": 1,
      "outputs": [
        {
          "output_type": "stream",
          "name": "stdout",
          "text": [
            "Requirement already satisfied: gensim in /usr/local/lib/python3.11/dist-packages (4.3.3)\n",
            "Requirement already satisfied: numpy<2.0,>=1.18.5 in /usr/local/lib/python3.11/dist-packages (from gensim) (1.26.4)\n",
            "Requirement already satisfied: scipy<1.14.0,>=1.7.0 in /usr/local/lib/python3.11/dist-packages (from gensim) (1.13.1)\n",
            "Requirement already satisfied: smart-open>=1.8.1 in /usr/local/lib/python3.11/dist-packages (from gensim) (7.1.0)\n",
            "Requirement already satisfied: wrapt in /usr/local/lib/python3.11/dist-packages (from smart-open>=1.8.1->gensim) (1.17.2)\n",
            "Requirement already satisfied: nltk in /usr/local/lib/python3.11/dist-packages (3.9.1)\n",
            "Requirement already satisfied: click in /usr/local/lib/python3.11/dist-packages (from nltk) (8.2.1)\n",
            "Requirement already satisfied: joblib in /usr/local/lib/python3.11/dist-packages (from nltk) (1.5.1)\n",
            "Requirement already satisfied: regex>=2021.8.3 in /usr/local/lib/python3.11/dist-packages (from nltk) (2024.11.6)\n",
            "Requirement already satisfied: tqdm in /usr/local/lib/python3.11/dist-packages (from nltk) (4.67.1)\n"
          ]
        }
      ]
    },
    {
      "cell_type": "code",
      "execution_count": 2,
      "metadata": {
        "colab": {
          "base_uri": "https://localhost:8080/"
        },
        "id": "UKlUE0zUbN4Q",
        "outputId": "d110528c-00db-4f37-9c6a-f7001740fd88"
      },
      "outputs": [
        {
          "output_type": "stream",
          "name": "stderr",
          "text": [
            "[nltk_data] Downloading package punkt_tab to /root/nltk_data...\n",
            "[nltk_data]   Unzipping tokenizers/punkt_tab.zip.\n",
            "[nltk_data] Downloading package stopwords to /root/nltk_data...\n",
            "[nltk_data]   Unzipping corpora/stopwords.zip.\n",
            "/usr/local/lib/python3.11/dist-packages/sklearn/linear_model/_logistic.py:1256: FutureWarning: 'multi_class' was deprecated in version 1.5 and will be removed in 1.7. Use OneVsRestClassifier(LogisticRegression(..)) instead. Leave it to its default value to avoid this warning.\n",
            "  warnings.warn(\n"
          ]
        },
        {
          "output_type": "stream",
          "name": "stdout",
          "text": [
            "USA Airline Sentiment Analysis Accuracy: 0.9959016393442623\n"
          ]
        }
      ],
      "source": [
        "\n",
        "import pandas as pd\n",
        "import numpy as np\n",
        "from sklearn.model_selection import train_test_split\n",
        "from sklearn.linear_model import LogisticRegression\n",
        "from sklearn.metrics import accuracy_score\n",
        "from gensim.models import Word2Vec\n",
        "from nltk.corpus import stopwords\n",
        "from nltk.tokenize import word_tokenize\n",
        "import nltk\n",
        "\n",
        "\n",
        "nltk.download('punkt_tab')\n",
        "nltk.download('stopwords')\n",
        "stop_words = set(stopwords.words('english'))\n",
        "\n",
        "\n",
        "def preprocess(text):\n",
        "    tokens = word_tokenize(text.lower())\n",
        "    return [word for word in tokens if word.isalpha() and word not in stop_words]\n",
        "\n",
        "def vectorize(tokens, w2v_model):\n",
        "    valid_vecs = [w2v_model.wv[word] for word in tokens if word in w2v_model.wv]\n",
        "    return np.mean(valid_vecs, axis=0) if valid_vecs else np.zeros(w2v_model.vector_size)\n",
        "\n",
        "\n",
        "twitter_data = pd.read_csv('0000000000002747_test_twitter_x_test.csv')\n",
        "twitter_data['Tokens'] = twitter_data['text'].apply(preprocess)\n",
        "\n",
        "\n",
        "w2v_twitter = Word2Vec(twitter_data['Tokens'], vector_size=300, window=5, min_count=1, workers=4)\n",
        "twitter_data['Vector'] = twitter_data['Tokens'].apply(lambda tokens: vectorize(tokens, w2v_twitter))\n",
        "\n",
        "\n",
        "X_twitter = np.vstack(twitter_data['Vector'].values)\n",
        "y_twitter = pd.factorize(twitter_data['airline_sentiment_gold'])[0]  # Encoding sentiments\n",
        "\n",
        "\n",
        "X_twitter_train, X_twitter_test, y_twitter_train, y_twitter_test = train_test_split(X_twitter, y_twitter, test_size=0.2, random_state=42)\n",
        "model_twitter = LogisticRegression(max_iter=1000, solver='liblinear', multi_class='ovr')\n",
        "model_twitter.fit(X_twitter_train, y_twitter_train)\n",
        "preds_twitter = model_twitter.predict(X_twitter_test)\n",
        "accuracy_twitter = accuracy_score(y_twitter_test, preds_twitter)\n",
        "\n",
        "print(\"USA Airline Sentiment Analysis Accuracy:\", accuracy_twitter)\n"
      ]
    }
  ]
}