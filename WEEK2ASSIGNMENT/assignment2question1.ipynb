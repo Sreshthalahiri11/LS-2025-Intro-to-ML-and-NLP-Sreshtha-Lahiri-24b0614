{
  "nbformat": 4,
  "nbformat_minor": 0,
  "metadata": {
    "colab": {
      "provenance": []
    },
    "kernelspec": {
      "name": "python3",
      "display_name": "Python 3"
    },
    "language_info": {
      "name": "python"
    }
  },
  "cells": [
    {
      "cell_type": "code",
      "source": [
        "!pip install gensim\n"
      ],
      "metadata": {
        "colab": {
          "base_uri": "https://localhost:8080/"
        },
        "id": "1JzwqZmYZ5kb",
        "outputId": "e97143cf-a754-4ea8-a6bd-1c135f8f5e48"
      },
      "execution_count": 1,
      "outputs": [
        {
          "output_type": "stream",
          "name": "stdout",
          "text": [
            "Requirement already satisfied: gensim in /usr/local/lib/python3.11/dist-packages (4.3.3)\n",
            "Requirement already satisfied: numpy<2.0,>=1.18.5 in /usr/local/lib/python3.11/dist-packages (from gensim) (1.26.4)\n",
            "Requirement already satisfied: scipy<1.14.0,>=1.7.0 in /usr/local/lib/python3.11/dist-packages (from gensim) (1.13.1)\n",
            "Requirement already satisfied: smart-open>=1.8.1 in /usr/local/lib/python3.11/dist-packages (from gensim) (7.1.0)\n",
            "Requirement already satisfied: wrapt in /usr/local/lib/python3.11/dist-packages (from smart-open>=1.8.1->gensim) (1.17.2)\n"
          ]
        }
      ]
    },
    {
      "cell_type": "code",
      "execution_count": 9,
      "metadata": {
        "colab": {
          "base_uri": "https://localhost:8080/"
        },
        "id": "WPTQFxNOZUN1",
        "outputId": "663f8085-3ad1-4a7b-ad6f-10459780659d"
      },
      "outputs": [
        {
          "output_type": "stream",
          "name": "stderr",
          "text": [
            "[nltk_data] Downloading package punkt_tab to /root/nltk_data...\n",
            "[nltk_data]   Package punkt_tab is already up-to-date!\n",
            "[nltk_data] Downloading package stopwords to /root/nltk_data...\n",
            "[nltk_data]   Package stopwords is already up-to-date!\n"
          ]
        },
        {
          "output_type": "stream",
          "name": "stdout",
          "text": [
            "SMS Spam Detection Accuracy: 0.8663677130044843\n"
          ]
        }
      ],
      "source": [
        "import pandas as pd\n",
        "import numpy as np\n",
        "from sklearn.model_selection import train_test_split\n",
        "from sklearn.linear_model import LogisticRegression\n",
        "from sklearn.metrics import accuracy_score\n",
        "import gensim\n",
        "from gensim.models import Word2Vec\n",
        "from nltk.corpus import stopwords\n",
        "from nltk.tokenize import word_tokenize\n",
        "import nltk\n",
        "import nltk\n",
        "from nltk.tokenize import word_tokenize\n",
        "nltk.download('punkt_tab')\n",
        "nltk.download('stopwords')\n",
        "stop_words = set(stopwords.words('english'))\n",
        "\n",
        "\n",
        "def preprocess(text):\n",
        "    tokens = word_tokenize(text.lower())\n",
        "    return [word for word in tokens if word.isalpha() and word not in stop_words]\n",
        "\n",
        "\n",
        "def vectorize(tokens, w2v_model):\n",
        "    valid_vecs = [w2v_model.wv[word] for word in tokens if word in w2v_model.wv]\n",
        "    return np.mean(valid_vecs, axis=0) if valid_vecs else np.zeros(w2v_model.vector_size)\n",
        "\n",
        "\n",
        "sms_data = pd.read_csv('SMSSpamCollection.csv', delimiter='\\t', header=None, names=['Label', 'Message'])\n",
        "sms_data['Tokens'] = sms_data['Message'].apply(preprocess)\n",
        "\n",
        "\n",
        "w2v_sms = Word2Vec(sms_data['Tokens'], vector_size=300, window=5, min_count=1, workers=4)\n",
        "sms_data['Vector'] = sms_data['Tokens'].apply(lambda tokens: vectorize(tokens, w2v_sms))\n",
        "\n",
        "\n",
        "X_sms = np.vstack(sms_data['Vector'].values)\n",
        "y_sms = sms_data['Label'].map({'ham': 0, 'spam': 1}).values\n",
        "\n",
        "\n",
        "X_sms_train, X_sms_test, y_sms_train, y_sms_test = train_test_split(X_sms, y_sms, test_size=0.2, random_state=42)\n",
        "model_sms = LogisticRegression(max_iter=1000, solver='liblinear')\n",
        "model_sms.fit(X_sms_train, y_sms_train)\n",
        "preds_sms = model_sms.predict(X_sms_test)\n",
        "accuracy_sms = accuracy_score(y_sms_test, preds_sms)\n",
        "\n",
        "\n",
        "print(\"SMS Spam Detection Accuracy:\", accuracy_sms)\n",
        "\n"
      ]
    }
  ]
}